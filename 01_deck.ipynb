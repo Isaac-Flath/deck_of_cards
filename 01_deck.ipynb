{
 "cells": [
  {
   "cell_type": "code",
   "execution_count": 47,
   "id": "17fda2c6",
   "metadata": {},
   "outputs": [],
   "source": [
    "#|default_exp deck"
   ]
  },
  {
   "cell_type": "code",
   "execution_count": 48,
   "id": "19711917",
   "metadata": {},
   "outputs": [],
   "source": [
    "#|hide\n",
    "from nbprocess.showdoc import *"
   ]
  },
  {
   "cell_type": "markdown",
   "id": "c671cc14",
   "metadata": {},
   "source": [
    "# Deck\n",
    "> Playing Cards"
   ]
  },
  {
   "cell_type": "code",
   "execution_count": 49,
   "id": "eb9aedac",
   "metadata": {},
   "outputs": [],
   "source": [
    "#|export\n",
    "from deck_of_cards.card import Card"
   ]
  },
  {
   "cell_type": "code",
   "execution_count": 50,
   "id": "621e1fa8",
   "metadata": {},
   "outputs": [],
   "source": [
    "#|export\n",
    "class Deck:\n",
    "    \"\"\"Represents a deck of cards.\n",
    "    Attributes:\n",
    "      cards: list of Card objects.\n",
    "    \"\"\"\n",
    "    \n",
    "    def __init__(self):\n",
    "        \"Initializes the Deck with 52 cards.\"\n",
    "        self.cards = [Card(suit, rank) for suit in range(4) for rank in range(1, 14)]\n",
    "\n",
    "    def __str__(self):\n",
    "        \"Returns a string representation of the deck.\"\n",
    "        return '\\n'.join([str(card) in self.cards])\n",
    "    \n",
    "    def add_card(self, card:Card):\n",
    "        \"Adds a card to the deck.\"\n",
    "        self.cards.append(card)\n",
    "\n",
    "    def remove_card(self, card):\n",
    "        \"Removes a card from the deck or raises exception if it is not there.\"\n",
    "        self.cards.remove(card)\n",
    "\n",
    "    def pop_card(self, i=-1):\n",
    "        \"Removes and returns a card from the deck.\"\n",
    "        return self.cards.pop(i)\n",
    "\n",
    "    def shuffle(self):\n",
    "        \"\"\"Shuffles the cards in this deck.\"\"\"\n",
    "        random.shuffle(self.cards)\n",
    "\n",
    "    def sort(self):\n",
    "        \"\"\"Sorts the cards in ascending order.\"\"\"\n",
    "        self.cards.sort()\n",
    "\n",
    "    def move_cards(self, \n",
    "                   hand, # destination Hand object \n",
    "                   num:int # integer number of cards to move\n",
    "                  ):\n",
    "        \"Moves the given number of cards from the deck into the Hand.\"\n",
    "        for i in range(num): hand.add_card(self.pop_card())"
   ]
  },
  {
   "cell_type": "markdown",
   "id": "2cd4a5ca",
   "metadata": {},
   "source": [
    "A Deck of cards is a collection of `Card` objects:"
   ]
  },
  {
   "cell_type": "code",
   "execution_count": 51,
   "id": "5cc139d2",
   "metadata": {},
   "outputs": [],
   "source": [
    "deck = Deck()\n",
    "assert isinstance(deck.pop_card(), Card)"
   ]
  },
  {
   "cell_type": "markdown",
   "id": "7eaca144-f9f5-4b39-90b3-1ae20efe74a8",
   "metadata": {},
   "source": [
    "You can show the docs for methods by calling `show_doc`. For example, the code `show_doc(Deck.remove_card)` produces the following documentation:"
   ]
  },
  {
   "cell_type": "code",
   "execution_count": 52,
   "id": "c50e139d",
   "metadata": {},
   "outputs": [
    {
     "data": {
      "text/markdown": [
       "---\n",
       "\n",
       "#### Deck.remove_card\n",
       "\n",
       ">      Deck.remove_card (card)\n",
       "\n",
       "Removes a card from the deck or raises exception if it is not there."
      ],
      "text/plain": [
       "<nbprocess.showdoc.BasicMarkdownRenderer at 0x7fdc595afaf0>"
      ]
     },
     "execution_count": 52,
     "metadata": {},
     "output_type": "execute_result"
    }
   ],
   "source": [
    "show_doc(Deck.remove_card)"
   ]
  },
  {
   "cell_type": "markdown",
   "id": "bd425fea",
   "metadata": {},
   "source": [
    "If we remove a card from the Deck we can verify that it no longer exists:"
   ]
  },
  {
   "cell_type": "code",
   "execution_count": 53,
   "id": "c8b0a9df",
   "metadata": {},
   "outputs": [],
   "source": [
    "card23 = Card(2, 3)\n",
    "deck.remove_card(card23)\n",
    "\n",
    "assert card23 not in deck.cards"
   ]
  },
  {
   "cell_type": "markdown",
   "id": "eb9c4a22",
   "metadata": {},
   "source": [
    "\n",
    "\n",
    "However, another card that we haven't removed, such as the `10 of hearts` will still be in the Deck of cards because we haven't removed it:\n"
   ]
  },
  {
   "cell_type": "code",
   "execution_count": 54,
   "id": "19862dcf",
   "metadata": {},
   "outputs": [
    {
     "data": {
      "text/plain": [
       "10 of Hearts"
      ]
     },
     "execution_count": 54,
     "metadata": {},
     "output_type": "execute_result"
    }
   ],
   "source": [
    "c = Card(2,10)\n",
    "assert c in deck.cards\n",
    "c"
   ]
  }
 ],
 "metadata": {
  "kernelspec": {
   "display_name": "Python 3 (ipykernel)",
   "language": "python",
   "name": "python3"
  },
  "language_info": {
   "codemirror_mode": {
    "name": "ipython",
    "version": 3
   },
   "file_extension": ".py",
   "mimetype": "text/x-python",
   "name": "python",
   "nbconvert_exporter": "python",
   "pygments_lexer": "ipython3",
   "version": "3.9.7"
  }
 },
 "nbformat": 4,
 "nbformat_minor": 5
}
